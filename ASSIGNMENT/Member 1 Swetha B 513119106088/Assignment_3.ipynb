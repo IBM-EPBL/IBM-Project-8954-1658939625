{
 "cells": [
  {
   "cell_type": "code",
   "execution_count": 36,
   "id": "18f29f09",
   "metadata": {},
   "outputs": [],
   "source": [
    "#Importing libraries"
   ]
  },
  {
   "cell_type": "code",
   "execution_count": 37,
   "id": "a26290c6",
   "metadata": {
    "scrolled": true
   },
   "outputs": [],
   "source": [
    "import numpy as np\n",
    "import tensorflow as tf\n",
    "from keras.preprocessing.image import ImageDataGenerator"
   ]
  },
  {
   "cell_type": "code",
   "execution_count": 38,
   "id": "e1143dff",
   "metadata": {},
   "outputs": [],
   "source": [
    "#Data Processing"
   ]
  },
  {
   "cell_type": "code",
   "execution_count": 39,
   "id": "547bb3da",
   "metadata": {},
   "outputs": [],
   "source": [
    "#Training Image Processing"
   ]
  },
  {
   "cell_type": "code",
   "execution_count": 40,
   "id": "f83da742",
   "metadata": {},
   "outputs": [
    {
     "name": "stdout",
     "output_type": "stream",
     "text": [
      "Found 3416 images belonging to 5 classes.\n"
     ]
    }
   ],
   "source": [
    "train_datagen = ImageDataGenerator(rescale=1./255,\n",
    "                shear_range=0.2,\n",
    "                zoom_range=0.2,\n",
    "                horizontal_flip=True)\n",
    "training_set = train_datagen.flow_from_directory('train',target_size=(64,64), batch_size=32, class_mode='categorical')"
   ]
  },
  {
   "cell_type": "code",
   "execution_count": 41,
   "id": "f085a419",
   "metadata": {},
   "outputs": [],
   "source": [
    "#Test Image processing"
   ]
  },
  {
   "cell_type": "code",
   "execution_count": 42,
   "id": "b0aa779f",
   "metadata": {},
   "outputs": [
    {
     "name": "stdout",
     "output_type": "stream",
     "text": [
      "Found 901 images belonging to 5 classes.\n"
     ]
    }
   ],
   "source": [
    "test_datagen= ImageDataGenerator(rescale=1./255)\n",
    "test_set = test_datagen.flow_from_directory('test',target_size=(64,64), batch_size=32, class_mode='categorical')"
   ]
  },
  {
   "cell_type": "code",
   "execution_count": 43,
   "id": "f86703a0",
   "metadata": {},
   "outputs": [],
   "source": [
    "#Building Model"
   ]
  },
  {
   "cell_type": "code",
   "execution_count": 44,
   "id": "9d53c524",
   "metadata": {},
   "outputs": [],
   "source": [
    "cnn= tf.keras.models.Sequential()"
   ]
  },
  {
   "cell_type": "code",
   "execution_count": 45,
   "id": "f06c5fc9",
   "metadata": {},
   "outputs": [],
   "source": [
    "#Building Convolution layer"
   ]
  },
  {
   "cell_type": "code",
   "execution_count": 46,
   "id": "dcf09911",
   "metadata": {},
   "outputs": [],
   "source": [
    "cnn.add(tf.keras.layers.Conv2D(filters=64,kernel_size=3,activation='relu',input_shape=[64,64,3]))   #Convolution layer\n",
    "cnn.add(tf.keras.layers.MaxPool2D(pool_size=2,strides=2))      #Pooling"
   ]
  },
  {
   "cell_type": "code",
   "execution_count": 47,
   "id": "07e4171d",
   "metadata": {},
   "outputs": [],
   "source": [
    "cnn.add(tf.keras.layers.Conv2D(filters=64,kernel_size=3,activation='relu'))\n",
    "cnn.add(tf.keras.layers.MaxPool2D(pool_size=2,strides=2))"
   ]
  },
  {
   "cell_type": "code",
   "execution_count": 48,
   "id": "48e1dd37",
   "metadata": {},
   "outputs": [],
   "source": [
    "cnn.add(tf.keras.layers.Dropout(0.5))"
   ]
  },
  {
   "cell_type": "code",
   "execution_count": 49,
   "id": "3a4b5e04",
   "metadata": {},
   "outputs": [],
   "source": [
    "cnn.add(tf.keras.layers.Flatten())"
   ]
  },
  {
   "cell_type": "code",
   "execution_count": 50,
   "id": "15f10792",
   "metadata": {},
   "outputs": [],
   "source": [
    "cnn.add(tf.keras.layers.Dense(units=128,activation='relu'))"
   ]
  },
  {
   "cell_type": "code",
   "execution_count": 51,
   "id": "79cf2b13",
   "metadata": {},
   "outputs": [],
   "source": [
    "cnn.add(tf.keras.layers.Dense(units=5,activation='softmax'))"
   ]
  },
  {
   "cell_type": "code",
   "execution_count": 52,
   "id": "07caa1fc",
   "metadata": {},
   "outputs": [],
   "source": [
    "cnn.compile(optimizer='rmsprop',loss='categorical_crossentropy',metrics=['accuracy'])"
   ]
  },
  {
   "cell_type": "code",
   "execution_count": 53,
   "id": "f7d0e0ad",
   "metadata": {},
   "outputs": [
    {
     "name": "stdout",
     "output_type": "stream",
     "text": [
      "Epoch 1/30\n",
      "107/107 [==============================] - 21s 191ms/step - loss: 1.4163 - accuracy: 0.4125 - val_loss: 1.3420 - val_accuracy: 0.4484\n",
      "Epoch 2/30\n",
      "107/107 [==============================] - 20s 189ms/step - loss: 1.1206 - accuracy: 0.5477 - val_loss: 1.0815 - val_accuracy: 0.6004\n",
      "Epoch 3/30\n",
      "107/107 [==============================] - 22s 205ms/step - loss: 0.9974 - accuracy: 0.6013 - val_loss: 1.0247 - val_accuracy: 0.6016\n",
      "Epoch 4/30\n",
      "107/107 [==============================] - 23s 214ms/step - loss: 0.9219 - accuracy: 0.6420 - val_loss: 1.1681 - val_accuracy: 0.6060\n",
      "Epoch 5/30\n",
      "107/107 [==============================] - 20s 189ms/step - loss: 0.8665 - accuracy: 0.6713 - val_loss: 1.1001 - val_accuracy: 0.6271\n",
      "Epoch 6/30\n",
      "107/107 [==============================] - 20s 186ms/step - loss: 0.8441 - accuracy: 0.6754 - val_loss: 1.0498 - val_accuracy: 0.6337\n",
      "Epoch 7/30\n",
      "107/107 [==============================] - 19s 180ms/step - loss: 0.7779 - accuracy: 0.6964 - val_loss: 0.9071 - val_accuracy: 0.6892\n",
      "Epoch 8/30\n",
      "107/107 [==============================] - 19s 181ms/step - loss: 0.7602 - accuracy: 0.7125 - val_loss: 0.9053 - val_accuracy: 0.6637\n",
      "Epoch 9/30\n",
      "107/107 [==============================] - 19s 177ms/step - loss: 0.7228 - accuracy: 0.7269 - val_loss: 0.9052 - val_accuracy: 0.6815\n",
      "Epoch 10/30\n",
      "107/107 [==============================] - 19s 174ms/step - loss: 0.7043 - accuracy: 0.7383 - val_loss: 0.8362 - val_accuracy: 0.7092\n",
      "Epoch 11/30\n",
      "107/107 [==============================] - 18s 172ms/step - loss: 0.6659 - accuracy: 0.7532 - val_loss: 0.9269 - val_accuracy: 0.6937\n",
      "Epoch 12/30\n",
      "107/107 [==============================] - 18s 172ms/step - loss: 0.6518 - accuracy: 0.7518 - val_loss: 0.9855 - val_accuracy: 0.6948\n",
      "Epoch 13/30\n",
      "107/107 [==============================] - 18s 169ms/step - loss: 0.6164 - accuracy: 0.7670 - val_loss: 0.8092 - val_accuracy: 0.7248\n",
      "Epoch 14/30\n",
      "107/107 [==============================] - 18s 170ms/step - loss: 0.5920 - accuracy: 0.7828 - val_loss: 0.9538 - val_accuracy: 0.6770\n",
      "Epoch 15/30\n",
      "107/107 [==============================] - 18s 170ms/step - loss: 0.5815 - accuracy: 0.7854 - val_loss: 0.8280 - val_accuracy: 0.7203\n",
      "Epoch 16/30\n",
      "107/107 [==============================] - 18s 171ms/step - loss: 0.5743 - accuracy: 0.7825 - val_loss: 0.9463 - val_accuracy: 0.6881\n",
      "Epoch 17/30\n",
      "107/107 [==============================] - 19s 173ms/step - loss: 0.5319 - accuracy: 0.8021 - val_loss: 0.9011 - val_accuracy: 0.6937\n",
      "Epoch 18/30\n",
      "107/107 [==============================] - 19s 173ms/step - loss: 0.5320 - accuracy: 0.7989 - val_loss: 1.1148 - val_accuracy: 0.6626\n",
      "Epoch 19/30\n",
      "107/107 [==============================] - 19s 181ms/step - loss: 0.5066 - accuracy: 0.8165 - val_loss: 1.0023 - val_accuracy: 0.7014\n",
      "Epoch 20/30\n",
      "107/107 [==============================] - 20s 190ms/step - loss: 0.4968 - accuracy: 0.8182 - val_loss: 0.9251 - val_accuracy: 0.7081\n",
      "Epoch 21/30\n",
      "107/107 [==============================] - 21s 201ms/step - loss: 0.4774 - accuracy: 0.8261 - val_loss: 1.1647 - val_accuracy: 0.6471\n",
      "Epoch 22/30\n",
      "107/107 [==============================] - 19s 182ms/step - loss: 0.4758 - accuracy: 0.8282 - val_loss: 0.9405 - val_accuracy: 0.6848\n",
      "Epoch 23/30\n",
      "107/107 [==============================] - 20s 183ms/step - loss: 0.4472 - accuracy: 0.8396 - val_loss: 1.1481 - val_accuracy: 0.6737\n",
      "Epoch 24/30\n",
      "107/107 [==============================] - 23s 218ms/step - loss: 0.4430 - accuracy: 0.8393 - val_loss: 0.9670 - val_accuracy: 0.6826\n",
      "Epoch 25/30\n",
      "107/107 [==============================] - 21s 196ms/step - loss: 0.4246 - accuracy: 0.8451 - val_loss: 0.9997 - val_accuracy: 0.7103\n",
      "Epoch 26/30\n",
      "107/107 [==============================] - 22s 203ms/step - loss: 0.4243 - accuracy: 0.8457 - val_loss: 0.9485 - val_accuracy: 0.7092\n",
      "Epoch 27/30\n",
      "107/107 [==============================] - 22s 201ms/step - loss: 0.4061 - accuracy: 0.8560 - val_loss: 1.0021 - val_accuracy: 0.7070\n",
      "Epoch 28/30\n",
      "107/107 [==============================] - 21s 194ms/step - loss: 0.4287 - accuracy: 0.8487 - val_loss: 0.8441 - val_accuracy: 0.7181\n",
      "Epoch 29/30\n",
      "107/107 [==============================] - 22s 204ms/step - loss: 0.3932 - accuracy: 0.8618 - val_loss: 0.9543 - val_accuracy: 0.6781\n",
      "Epoch 30/30\n",
      "107/107 [==============================] - 21s 195ms/step - loss: 0.3858 - accuracy: 0.8680 - val_loss: 0.9888 - val_accuracy: 0.7259\n"
     ]
    },
    {
     "data": {
      "text/plain": [
       "<keras.callbacks.History at 0x1bbf2214be0>"
      ]
     },
     "execution_count": 53,
     "metadata": {},
     "output_type": "execute_result"
    }
   ],
   "source": [
    "cnn.fit(x=training_set,validation_data=test_set,epochs=30 )"
   ]
  },
  {
   "cell_type": "code",
   "execution_count": 61,
   "id": "0c10992f",
   "metadata": {},
   "outputs": [],
   "source": [
    "#preprocess new image"
   ]
  },
  {
   "cell_type": "code",
   "execution_count": 62,
   "id": "94db86da",
   "metadata": {},
   "outputs": [],
   "source": [
    "from keras.preprocessing import image\n",
    "test_image = tf.keras.utils.load_img('predict/sunflower.jpg', target_size=(64,64))\n",
    "test_image = tf.keras.utils.img_to_array(test_image)\n",
    "test_image = np.expand_dims(test_image, axis=0)\n",
    "result=cnn.predict(test_image)"
   ]
  },
  {
   "cell_type": "code",
   "execution_count": 63,
   "id": "d1ec5de9",
   "metadata": {},
   "outputs": [
    {
     "data": {
      "text/plain": [
       "{'daisy': 0, 'dandelion': 1, 'rose': 2, 'sunflower': 3, 'tulip': 4}"
      ]
     },
     "execution_count": 63,
     "metadata": {},
     "output_type": "execute_result"
    }
   ],
   "source": [
    "training_set.class_indices"
   ]
  },
  {
   "cell_type": "code",
   "execution_count": 64,
   "id": "c5fa0b80",
   "metadata": {},
   "outputs": [
    {
     "name": "stdout",
     "output_type": "stream",
     "text": [
      "[[0. 0. 0. 1. 0.]]\n"
     ]
    }
   ],
   "source": [
    "print(result)"
   ]
  },
  {
   "cell_type": "code",
   "execution_count": 65,
   "id": "5a6d9b27",
   "metadata": {},
   "outputs": [
    {
     "name": "stdout",
     "output_type": "stream",
     "text": [
      "Sunflower\n"
     ]
    }
   ],
   "source": [
    "if result[0][0]==1:\n",
    "    print('Daisy')\n",
    "elif result[0][1]==1:\n",
    "    print('Dandelion')\n",
    "elif result[0][2]==1:\n",
    "    print('Rose')\n",
    "elif result[0][3]==1:\n",
    "    print('Sunflower')\n",
    "elif result[0][4]==1:\n",
    "    print('Tulip')"
   ]
  },
  {
   "cell_type": "code",
   "execution_count": null,
   "id": "a6944eb2",
   "metadata": {},
   "outputs": [],
   "source": []
  }
 ],
 "metadata": {
  "kernelspec": {
   "display_name": "Python 3 (ipykernel)",
   "language": "python",
   "name": "python3"
  },
  "language_info": {
   "codemirror_mode": {
    "name": "ipython",
    "version": 3
   },
   "file_extension": ".py",
   "mimetype": "text/x-python",
   "name": "python",
   "nbconvert_exporter": "python",
   "pygments_lexer": "ipython3",
   "version": "3.9.12"
  }
 },
 "nbformat": 4,
 "nbformat_minor": 5
}
